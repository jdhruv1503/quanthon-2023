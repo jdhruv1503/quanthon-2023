{
  "cells": [
    {
      "cell_type": "markdown",
      "metadata": {},
      "source": [
        "# Initialize"
      ]
    },
    {
      "cell_type": "markdown",
      "metadata": {
        "id": "VWo2G_9wdiNM"
      },
      "source": [
        "## References\n",
        "\n",
        "https://www.kaggle.com/code/mtszkw/technical-indicators-for-trading-stocks \\\n",
        "https://www.kaggle.com/code/thebrownviking20/everything-you-can-do-with-a-time-series \\\n",
        "https://www.diva-portal.org/smash/get/diva2:1775077/FULLTEXT01.pdf \\\n",
        "https://pub.towardsai.net/predicting-stock-prices-using-arima-fourier-transforms-and-technical-indicators-with-deep-43a164859683 \\\n",
        "https://www.kaggle.com/learn/time-series"
      ]
    },
    {
      "cell_type": "markdown",
      "metadata": {},
      "source": [
        "## _Time Series theek krna mat bhoolna_\n",
        "## _Remove weekends Pilich_"
      ]
    },
    {
      "cell_type": "markdown",
      "metadata": {
        "id": "wRyZc9p6Wmxk"
      },
      "source": [
        "## Import dependencies"
      ]
    },
    {
      "cell_type": "code",
      "execution_count": null,
      "metadata": {},
      "outputs": [],
      "source": [
        "! pip install -r requirements.txt --quiet"
      ]
    },
    {
      "cell_type": "code",
      "execution_count": null,
      "metadata": {
        "id": "H-0FP4sLZFAM"
      },
      "outputs": [],
      "source": [
        "import os\n",
        "import pandas as pd\n",
        "import gdown\n",
        "from datetime import datetime, timedelta\n",
        "\n",
        "from plotly.offline import download_plotlyjs, init_notebook_mode, plot, iplot\n",
        "import plotly as py\n",
        "import plotly.io as pio\n",
        "import plotly.graph_objs as go\n",
        "from plotly.subplots import make_subplots\n",
        "\n",
        "from pmdarima.arima import auto_arima\n",
        "from statsmodels.tsa.arima.model import ARIMA\n",
        "\n",
        "import numpy as np                                    # For matrices!\n",
        "import matplotlib.pyplot as plt                       # To visualize\n",
        "from sklearn.model_selection import train_test_split\n",
        "from sklearn.linear_model import LinearRegression     # For the regression itself\n",
        "from sklearn.linear_model import SGDRegressor\n",
        "from sklearn.linear_model import Ridge\n",
        "from sklearn.ensemble import RandomForestRegressor\n",
        "from sklearn.tree import DecisionTreeRegressor\n",
        "from sklearn import svm\n",
        "from sklearn.metrics import mean_squared_error, f1_score\n",
        "from sklearn.preprocessing import OneHotEncoder       # To convert discrete strings to vectors!\n",
        "from sklearn.preprocessing import normalize           # For normalizing\n",
        "import seaborn as sns                                 # For plots"
      ]
    },
    {
      "cell_type": "markdown",
      "metadata": {},
      "source": [
        "## Change default chart layout"
      ]
    },
    {
      "cell_type": "code",
      "execution_count": null,
      "metadata": {
        "colab": {
          "base_uri": "https://localhost:8080/",
          "height": 17
        },
        "id": "lWGusNNx0Kxs",
        "outputId": "e14a91ae-e65d-428a-dc4b-ddeaaddcda00"
      },
      "outputs": [],
      "source": [
        "# # Show charts when running kernel\n",
        "# init_notebook_mode(connected=True)\n",
        "# \n",
        "# # Change default background color for all visualizations\n",
        "# layout=go.Layout(paper_bgcolor='rgba(0,0,0,0)', plot_bgcolor='rgba(250,250,250,0.8)')\n",
        "# fig = go.Figure(layout=layout)\n",
        "# templated_fig = pio.to_templated(fig)\n",
        "# pio.templates['my_template'] = templated_fig.layout.template\n",
        "# pio.templates.default = 'my_template'"
      ]
    },
    {
      "cell_type": "markdown",
      "metadata": {},
      "source": [
        "## Download datasets"
      ]
    },
    {
      "cell_type": "code",
      "execution_count": null,
      "metadata": {
        "colab": {
          "base_uri": "https://localhost:8080/"
        },
        "id": "32DbZaSkatlE",
        "outputId": "091003ce-b67a-4b41-fb96-08c80a081bdc"
      },
      "outputs": [],
      "source": [
        "# # SnP500\n",
        "# gdown.download(\"https://docs.google.com/uc?id=1KveL-W2L6YxO-1NKn0n6FeGTKLWgvAL4\", \"ES_continuous_adjusted_1min_2011_2018.txt\", quiet=True)\n",
        "\n",
        "# # Nasdaq\n",
        "# gdown.download(\"https://docs.google.com/uc?id=1NyHRoU2YiaCKIhy7afUTuAmC0haWK1Ny\", \"NQ_continuous_adjusted_1min_2011_2018.txt\", quiet=True)"
      ]
    },
    {
      "cell_type": "markdown",
      "metadata": {},
      "source": [
        "## Read datasets as CSV"
      ]
    },
    {
      "cell_type": "code",
      "execution_count": null,
      "metadata": {
        "colab": {
          "base_uri": "https://localhost:8080/",
          "height": 394
        },
        "id": "nokF9p-qYUno",
        "outputId": "82caac01-cffc-4b1b-b39d-8bd1b72f4d50"
      },
      "outputs": [],
      "source": [
        "ES_1min_raw = pd.read_csv('ES_continuous_adjusted_1min_2011_2018.txt', encoding='latin-1')\n",
        "ES_5min_raw = pd.read_csv('ES_continuous_adjusted_5min_2011_2018.txt', encoding='latin-1')\n",
        "ES_30min_raw = pd.read_csv('ES_continuous_adjusted_30min_2011_2018.txt', encoding='latin-1')\n",
        "ES_1hour_raw = pd.read_csv('ES_continuous_adjusted_1hour_2011_2018.txt', encoding='latin-1')\n",
        "\n",
        "NQ_1min_raw = pd.read_csv('NQ_continuous_adjusted_1min_2011_2018.txt', encoding='latin-1')\n",
        "NQ_5min_raw = pd.read_csv('NQ_continuous_adjusted_5min_2011_2018.txt', encoding='latin-1')\n",
        "NQ_30min_raw = pd.read_csv('NQ_continuous_adjusted_30min_2011_2018.txt', encoding='latin-1')\n",
        "NQ_1hour_raw = pd.read_csv('NQ_continuous_adjusted_1hour_2011_2018.txt', encoding='latin-1')"
      ]
    },
    {
      "cell_type": "markdown",
      "metadata": {},
      "source": [
        "# Data Processing"
      ]
    },
    {
      "cell_type": "markdown",
      "metadata": {},
      "source": [
        "## I. Moving Average\n",
        "\n",
        "Moving Averages (MA) help to smooth out stock prices on a chart by filtering out short-term price fluctuations. We calculate moving averages over a defined period of time e.g. last 9, 50 or 200 days. There are two (most common) averages used in technical analysis which are:\n",
        "\n",
        "- __Simple Moving Average (SMA)__ - a simple average calculated over last N days e.g. 50, 100 or 200,\n",
        "- __Exponential Moving Average (EMA)__ - an average where greater weights are applied to recent prices.\n",
        "MAs and their crossovers (see $\\text{Golden}\\ \\text{Cross}$ and $\\text{Death}\\ \\text{Cross}$) are often used as trade signals as they are so simple yet powerful."
      ]
    },
    {
      "cell_type": "code",
      "execution_count": null,
      "metadata": {},
      "outputs": [],
      "source": [
        "# SnP500\n",
        "\n",
        "ES_1min_raw['EMA_9'] = ES_1min_raw['Close'].ewm(7200).mean().shift()\n",
        "ES_1min_raw['SMA_50'] = ES_1min_raw['Close'].rolling(72000).mean().shift()\n",
        "ES_1min_raw['SMA_100'] = ES_1min_raw['Close'].rolling(144000).mean().shift()\n",
        "ES_1min_raw['SMA_200'] = ES_1min_raw['Close'].rolling(288000).mean().shift()\n",
        "\n",
        "ES_5min_raw['EMA_9'] = ES_5min_raw['Close'].ewm(1440).mean().shift()\n",
        "ES_5min_raw['SMA_50'] = ES_5min_raw['Close'].rolling(14400).mean().shift()\n",
        "ES_5min_raw['SMA_100'] = ES_5min_raw['Close'].rolling(28800).mean().shift()\n",
        "ES_5min_raw['SMA_200'] = ES_5min_raw['Close'].rolling(57600).mean().shift()\n",
        "\n",
        "ES_30min_raw['EMA_9'] = ES_30min_raw['Close'].ewm(240).mean().shift()\n",
        "ES_30min_raw['SMA_50'] = ES_30min_raw['Close'].rolling(2400).mean().shift()\n",
        "ES_30min_raw['SMA_100'] = ES_30min_raw['Close'].rolling(4800).mean().shift()\n",
        "ES_30min_raw['SMA_200'] = ES_30min_raw['Close'].rolling(9600).mean().shift()\n",
        "\n",
        "ES_1hour_raw['EMA_9'] = ES_1hour_raw['Close'].ewm(120).mean().shift()\n",
        "ES_1hour_raw['SMA_50'] = ES_1hour_raw['Close'].rolling(1200).mean().shift()\n",
        "ES_1hour_raw['SMA_100'] = ES_1hour_raw['Close'].rolling(2400).mean().shift()\n",
        "ES_1hour_raw['SMA_200'] = ES_1hour_raw['Close'].rolling(4800).mean().shift()\n",
        "\n",
        "# Nasdaq\n",
        "\n",
        "NQ_1min_raw['EMA_9'] = NQ_1min_raw['Close'].ewm(7200).mean().shift()\n",
        "NQ_1min_raw['SMA_50'] = NQ_1min_raw['Close'].rolling(72000).mean().shift()\n",
        "NQ_1min_raw['SMA_100'] = NQ_1min_raw['Close'].rolling(144000).mean().shift()\n",
        "NQ_1min_raw['SMA_200'] = NQ_1min_raw['Close'].rolling(288000).mean().shift()\n",
        "\n",
        "NQ_5min_raw['EMA_9'] = NQ_5min_raw['Close'].ewm(1440).mean().shift()\n",
        "NQ_5min_raw['SMA_50'] = NQ_5min_raw['Close'].rolling(14400).mean().shift()\n",
        "NQ_5min_raw['SMA_100'] = NQ_5min_raw['Close'].rolling(28800).mean().shift()\n",
        "NQ_5min_raw['SMA_200'] = NQ_5min_raw['Close'].rolling(57600).mean().shift()\n",
        "\n",
        "NQ_30min_raw['EMA_9'] = NQ_30min_raw['Close'].ewm(240).mean().shift()\n",
        "NQ_30min_raw['SMA_50'] = NQ_30min_raw['Close'].rolling(2400).mean().shift()\n",
        "NQ_30min_raw['SMA_100'] = NQ_30min_raw['Close'].rolling(4800).mean().shift()\n",
        "NQ_30min_raw['SMA_200'] = NQ_30min_raw['Close'].rolling(9600).mean().shift()\n",
        "\n",
        "NQ_1hour_raw['EMA_9'] = NQ_1hour_raw['Close'].ewm(120).mean().shift()\n",
        "NQ_1hour_raw['SMA_50'] = NQ_1hour_raw['Close'].rolling(1200).mean().shift()\n",
        "NQ_1hour_raw['SMA_100'] = NQ_1hour_raw['Close'].rolling(2400).mean().shift()\n",
        "NQ_1hour_raw['SMA_200'] = NQ_1hour_raw['Close'].rolling(4800).mean().shift()"
      ]
    },
    {
      "cell_type": "markdown",
      "metadata": {},
      "source": [
        "### Plotting MA"
      ]
    },
    {
      "cell_type": "code",
      "execution_count": null,
      "metadata": {},
      "outputs": [],
      "source": [
        "def plotMA(ES_1hour_raw):\n",
        "    fig = go.Figure()\n",
        "    fig.add_trace(go.Scatter(x=ES_1hour_raw.DateTime, y=ES_1hour_raw.EMA_9, name='EMA 9'))\n",
        "    fig.add_trace(go.Scatter(x=ES_1hour_raw.DateTime, y=ES_1hour_raw.SMA_50, name='SMA 50'))\n",
        "    fig.add_trace(go.Scatter(x=ES_1hour_raw.DateTime, y=ES_1hour_raw.SMA_100, name='SMA 100'))\n",
        "    fig.add_trace(go.Scatter(x=ES_1hour_raw.DateTime, y=ES_1hour_raw.SMA_200, name='SMA 200'))\n",
        "    fig.add_trace(go.Scatter(x=ES_1hour_raw.DateTime, y=ES_1hour_raw.Close, name='Close', line_color='dimgray', opacity=0.3))\n",
        "    fig.show()\n",
        "\n",
        "# plotMA(ES_1hour_raw)\n",
        "# plotMA(NQ_1hour_raw)"
      ]
    },
    {
      "cell_type": "markdown",
      "metadata": {},
      "source": [
        "## II. RSI\n",
        "\n",
        "Another commonly used indicator is a __Relative Strength Index (RSI)__ that indicates magnitude of recent price changes. It can show that a stock is either overbought or oversold. \\\n",
        "Typically RSI value of 70 and above signal that a stock is becoming overbought/overvalued, meanwhile value of 30 and less can mean that it is oversold. Full range of RSI is from 0 to 100."
      ]
    },
    {
      "cell_type": "code",
      "execution_count": null,
      "metadata": {},
      "outputs": [],
      "source": [
        "def RSI(df, n=14):\n",
        "    close = df['Close']\n",
        "    delta = close.diff()\n",
        "    delta = delta[1:]\n",
        "    pricesUp = delta.copy()\n",
        "    pricesDown = delta.copy()\n",
        "    pricesUp[pricesUp < 0] = 0\n",
        "    pricesDown[pricesDown > 0] = 0\n",
        "    rollUp = pricesUp.rolling(n).mean()\n",
        "    rollDown = pricesDown.abs().rolling(n).mean()\n",
        "    rs = rollUp / rollDown\n",
        "    rsi = 100.0 - (100.0 / (1.0 + rs))\n",
        "    return rsi\n",
        "\n",
        "# SnP500\n",
        "\n",
        "ES_1min_raw['RSI'] = RSI(ES_1min_raw).fillna(0)\n",
        "ES_5min_raw['RSI'] = RSI(ES_5min_raw).fillna(0)\n",
        "ES_30min_raw['RSI'] = RSI(ES_30min_raw).fillna(0)\n",
        "ES_1hour_raw['RSI'] = RSI(ES_1hour_raw).fillna(0)\n",
        "\n",
        "# Nasdaq\n",
        "\n",
        "NQ_1min_raw['RSI'] = RSI(NQ_1min_raw).fillna(0)\n",
        "NQ_5min_raw['RSI'] = RSI(NQ_5min_raw).fillna(0)\n",
        "NQ_30min_raw['RSI'] = RSI(NQ_30min_raw).fillna(0)\n",
        "NQ_1hour_raw['RSI'] = RSI(NQ_1hour_raw).fillna(0)"
      ]
    },
    {
      "cell_type": "markdown",
      "metadata": {},
      "source": [
        "### Plotting RSI"
      ]
    },
    {
      "cell_type": "code",
      "execution_count": null,
      "metadata": {},
      "outputs": [],
      "source": [
        "def plotRSI(df):\n",
        "    num_days = len(df)\n",
        "    fig = go.Figure(go.Scatter(x=df.DateTime.tail(num_days), y=df.RSI.tail(num_days)))\n",
        "    fig.add_hline(y=70)\n",
        "    fig.add_hline(y=30)\n",
        "    fig.show()\n",
        "\n",
        "# plotRSI(NQ_1hour_raw)\n",
        "# plotRSI(ES_1hour_raw)"
      ]
    },
    {
      "cell_type": "markdown",
      "metadata": {},
      "source": [
        "## III. MACD\n",
        "\n",
        "__Moving Average Convergence Divergence (MACD)__ is an indicator which shows the relationship between two exponential moving averages i.e. 12-day and 26-day EMAs. \\\n",
        "We obtain MACD by substracting 26-day EMA (also called slow EMA) from the 12-day EMA (or fast EMA)."
      ]
    },
    {
      "cell_type": "code",
      "execution_count": null,
      "metadata": {},
      "outputs": [],
      "source": [
        "def calc_macd(df, timescale):\n",
        "    df[\"EMA_12\"] = pd.Series(df['Close'].ewm(span=12*timescale, min_periods=12).mean())\n",
        "    df[\"EMA_26\"] = pd.Series(df['Close'].ewm(span=26*timescale, min_periods=26).mean())\n",
        "    df[\"MACD\"] = pd.Series(df.EMA_12 - df.EMA_26)\n",
        "    df[\"MACD_signal\"] = pd.Series(df.MACD.ewm(span=9*timescale, min_periods=9).mean())\n",
        "\n",
        "# SnP500\n",
        "\n",
        "calc_macd(ES_1min_raw, 1440)\n",
        "calc_macd(ES_5min_raw, 288)\n",
        "calc_macd(ES_30min_raw, 48)\n",
        "calc_macd(ES_1hour_raw, 24)\n",
        "\n",
        "# Nasdaq\n",
        "\n",
        "calc_macd(NQ_1min_raw, 1440)\n",
        "calc_macd(NQ_5min_raw, 288)\n",
        "calc_macd(NQ_30min_raw, 48)\n",
        "calc_macd(NQ_1hour_raw, 24)"
      ]
    },
    {
      "cell_type": "markdown",
      "metadata": {},
      "source": [
        "### Plotting MACD"
      ]
    },
    {
      "cell_type": "code",
      "execution_count": null,
      "metadata": {},
      "outputs": [],
      "source": [
        "def plotMACD(df):\n",
        "    fig = make_subplots(rows=2, cols=1)\n",
        "    fig.add_trace(go.Scatter(x=df.DateTime, y=df.Close, name='Close'), row=1, col=1)\n",
        "    fig.add_trace(go.Scatter(x=df.DateTime, y=df.EMA_12, name='EMA 12'), row=1, col=1)\n",
        "    fig.add_trace(go.Scatter(x=df.DateTime, y=df.EMA_26, name='EMA 26'), row=1, col=1)\n",
        "    fig.add_trace(go.Scatter(x=df.DateTime, y=df.MACD, name='MACD'), row=2, col=1)\n",
        "    fig.add_trace(go.Scatter(x=df.DateTime, y=df.MACD_signal, name='Signal line'), row=2, col=1)\n",
        "    fig.show()\n",
        "\n",
        "# plotMACD(ES_1hour_raw)\n",
        "# plotMACD(NQ_1hour_raw)"
      ]
    },
    {
      "cell_type": "markdown",
      "metadata": {},
      "source": [
        "## IV. Stochastic\n",
        "\n",
        "The last technical tool in this notebook is a stochastic oscillator is quite similar to RSI in the sense that it's values (also in range 0-100) can indicate whether a stock is overbought/oversold or not. It is arguably the most complicated indicator compared to the ones introduced earlier. Stochastic can be calculated as:\n",
        "\n",
        "$$\\%K=\\frac{C−L_{14}}{H_{14}−L_{14}}×100$$\n",
        " \n",
        "where:  $C$\n",
        "  is the most recent close price,  $L_{14}$\n",
        "  and  $H_{14}$\n",
        "  are the lowest/highest prices traded in last 14 days.\n",
        "\n",
        "This  $%K$\n",
        "  stochastic is often referred as the _\"slow stochastic indicator\"_. There is also a _\"fast stochastic indicator\"_ that can be obtained as:\n",
        "\n",
        "$$\\%D=SMA_3(\\%K)$$"
      ]
    },
    {
      "cell_type": "code",
      "execution_count": null,
      "metadata": {},
      "outputs": [],
      "source": [
        "def calc_stochastic(df, k=14, d=3):\n",
        "    df = df.copy()\n",
        "    low_min  = df['Low'].rolling(window=k).min()\n",
        "    high_max = df['High'].rolling( window=k).max()\n",
        "    df['stoch_k'] = 100 * (df['Close'] - low_min)/(high_max - low_min)\n",
        "    df['stoch_d'] = df['stoch_k'].rolling(window=d).mean()\n",
        "\n",
        "# SnP500\n",
        "\n",
        "calc_stochastic(ES_1min_raw)\n",
        "calc_stochastic(ES_5min_raw)\n",
        "calc_stochastic(ES_30min_raw)\n",
        "calc_stochastic(ES_1hour_raw)\n",
        "\n",
        "# Nasdaq\n",
        "\n",
        "calc_stochastic(NQ_1min_raw)\n",
        "calc_stochastic(NQ_5min_raw)\n",
        "calc_stochastic(NQ_30min_raw)\n",
        "calc_stochastic(NQ_1hour_raw)"
      ]
    },
    {
      "cell_type": "markdown",
      "metadata": {},
      "source": [
        "### Plotting Stochastics"
      ]
    },
    {
      "cell_type": "code",
      "execution_count": null,
      "metadata": {},
      "outputs": [],
      "source": [
        "def plot_stochastic(df):\n",
        "    fig = go.Figure()\n",
        "    fig.add_trace(go.Scatter(x=df.DateTime, y=df.stoch_k, name='K stochastic'))\n",
        "    fig.add_trace(go.Scatter(x=df.DateTime, y=df.stoch_d, name='D stochastic'))\n",
        "    fig.show()\n",
        "\n",
        "# plot_stochastic(ES_5min_raw)\n",
        "# plot_stochastic(ES_1hour_raw)"
      ]
    },
    {
      "cell_type": "markdown",
      "metadata": {},
      "source": [
        "## V. Differencing"
      ]
    },
    {
      "cell_type": "code",
      "execution_count": null,
      "metadata": {},
      "outputs": [],
      "source": [
        "# SnP500\n",
        "\n",
        "ES_1min_raw[\"Difference\"] = ES_1min_raw.Close.diff(1)\n",
        "ES_5min_raw[\"Difference\"] = ES_5min_raw.Close.diff(1)\n",
        "ES_30min_raw[\"Difference\"] = ES_30min_raw.Close.diff(1)\n",
        "ES_1hour_raw[\"Difference\"] = ES_1hour_raw.Close.diff(1)\n",
        "\n",
        "# Nasdaq\n",
        "\n",
        "NQ_1min_raw[\"Difference\"] = NQ_1min_raw.Close.diff(1)\n",
        "NQ_5min_raw[\"Difference\"] = NQ_5min_raw.Close.diff(1)\n",
        "NQ_30min_raw[\"Difference\"] = NQ_30min_raw.Close.diff(1)\n",
        "NQ_1hour_raw[\"Difference\"] = NQ_1hour_raw.Close.diff(1)"
      ]
    },
    {
      "cell_type": "markdown",
      "metadata": {},
      "source": [
        "## VI. On-Balance Volume"
      ]
    },
    {
      "cell_type": "markdown",
      "metadata": {},
      "source": [
        "On-Balance Volume (OBV) is a momentum-based indicator that tracks cumulative volume flow in the market to predict price trends. \\\n",
        "It adds volume on up days and subtracts on down days, offering insights into potential trend reversals and confirming price trends based on volume activity."
      ]
    },
    {
      "cell_type": "code",
      "execution_count": null,
      "metadata": {},
      "outputs": [],
      "source": [
        "def calc_obv(df):\n",
        "    df[\"OBV\"] = np.where(df['Close'] > df['Close'].shift(1), df['Volume'], \n",
        "    np.where(df['Close'] < df['Close'].shift(1), -df['Volume'], 0)).cumsum()\n",
        "\n",
        "# SnP500\n",
        "\n",
        "calc_obv(ES_1min_raw)\n",
        "calc_obv(ES_5min_raw)\n",
        "calc_obv(ES_30min_raw)\n",
        "calc_obv(ES_1hour_raw)\n",
        "\n",
        "# Nasdaq\n",
        "\n",
        "calc_obv(NQ_1min_raw)\n",
        "calc_obv(NQ_5min_raw)\n",
        "calc_obv(NQ_30min_raw)\n",
        "calc_obv(NQ_1hour_raw)"
      ]
    },
    {
      "cell_type": "markdown",
      "metadata": {},
      "source": [
        "### Plotting OBV"
      ]
    },
    {
      "cell_type": "code",
      "execution_count": null,
      "metadata": {},
      "outputs": [],
      "source": [
        "def plot_obv(df):\n",
        "    fig = go.Figure()\n",
        "    fig.add_trace(go.Scatter(x=df.DateTime, y=df.OBV))\n",
        "    fig.show()\n",
        "\n",
        "# plot_obv(ES_5min_raw)\n",
        "# plot_obv(ES_1hour_raw)"
      ]
    },
    {
      "cell_type": "markdown",
      "metadata": {},
      "source": [
        "# Model Training"
      ]
    },
    {
      "cell_type": "markdown",
      "metadata": {},
      "source": [
        "## ARIMA Model parameter tuning and training"
      ]
    },
    {
      "cell_type": "code",
      "execution_count": null,
      "metadata": {},
      "outputs": [],
      "source": [
        "model = auto_arima(NQ_1hour_raw['Close'], seasonal=False, trace=True)\n",
        "print(model.summary())"
      ]
    },
    {
      "cell_type": "code",
      "execution_count": null,
      "metadata": {},
      "outputs": [],
      "source": [
        "def calc_arima(df):\n",
        "    lis = df.Close.values\n",
        "    train, test_raw = lis[:int(lis.size*0.8)], lis[int(lis.size*0.8):]\n",
        "    print(train.size, test.size)\n",
        "\n",
        "    def arima_forecast(train):\n",
        "        model = ARIMA(train, order=(1,1,1))\n",
        "        model_fit = model.fit()\n",
        "\n",
        "        output = model_fit.forecast()\n",
        "        yhat = output[0]\n",
        "        print(yhat)\n",
        "        return yhat\n",
        "\n",
        "    predictions = []\n",
        "    test = test_raw[:]\n",
        "\n",
        "    for i in range(len(test)):\n",
        "        pred = arima_forecast(train)\n",
        "        predictions.append(pred)\n",
        "\n",
        "        train = np.append(train, [ test[0] ])\n",
        "        test = test[1:]\n",
        "\n",
        "        print(train.size, test.size)\n",
        "    \n",
        "    return predictions\n",
        "\n",
        "calc_arima(NQ_1hour_raw)"
      ]
    },
    {
      "cell_type": "code",
      "execution_count": null,
      "metadata": {},
      "outputs": [],
      "source": []
    }
  ],
  "metadata": {
    "accelerator": "GPU",
    "colab": {
      "provenance": []
    },
    "kernelspec": {
      "display_name": "Python 3",
      "name": "python3"
    },
    "language_info": {
      "codemirror_mode": {
        "name": "ipython",
        "version": 3
      },
      "file_extension": ".py",
      "mimetype": "text/x-python",
      "name": "python",
      "nbconvert_exporter": "python",
      "pygments_lexer": "ipython3",
      "version": "3.9.13"
    }
  },
  "nbformat": 4,
  "nbformat_minor": 0
}
