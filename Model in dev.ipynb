{
  "cells": [
    {
      "cell_type": "markdown",
      "metadata": {
        "id": "VWo2G_9wdiNM"
      },
      "source": [
        "# References\n",
        "\n",
        "https://www.kaggle.com/code/mtszkw/technical-indicators-for-trading-stocks\n",
        "https://www.kaggle.com/code/thebrownviking20/everything-you-can-do-with-a-time-series\n",
        "https://www.diva-portal.org/smash/get/diva2:1775077/FULLTEXT01.pdf\n",
        "https://pub.towardsai.net/predicting-stock-prices-using-arima-fourier-transforms-and-technical-indicators-with-deep-43a164859683\n"
      ]
    },
    {
      "cell_type": "markdown",
      "metadata": {
        "id": "wRyZc9p6Wmxk"
      },
      "source": [
        "## Import dependencies"
      ]
    },
    {
      "cell_type": "code",
      "execution_count": null,
      "metadata": {},
      "outputs": [],
      "source": [
        "! pip install -r requirements.txt"
      ]
    },
    {
      "cell_type": "code",
      "execution_count": null,
      "metadata": {
        "id": "H-0FP4sLZFAM"
      },
      "outputs": [],
      "source": [
        "import os\n",
        "import pandas as pd\n",
        "import gdown\n",
        "\n",
        "from plotly.offline import download_plotlyjs, init_notebook_mode, plot, iplot\n",
        "import nbformat\n",
        "import plotly as py\n",
        "import plotly.io as pio\n",
        "import plotly.graph_objs as go\n",
        "from plotly.subplots import make_subplots\n",
        "\n",
        "import numpy as np                                    # For matrices!\n",
        "import matplotlib.pyplot as plt                       # To visualize\n",
        "from sklearn.linear_model import LinearRegression     # For the regression itself\n",
        "from sklearn.linear_model import SGDRegressor\n",
        "from sklearn.linear_model import Ridge\n",
        "from sklearn.ensemble import RandomForestRegressor\n",
        "from sklearn.tree import DecisionTreeRegressor\n",
        "from sklearn import svm\n",
        "from sklearn.metrics import mean_squared_error, f1_score\n",
        "from sklearn.preprocessing import OneHotEncoder       # To convert discrete strings to vectors!\n",
        "from sklearn.preprocessing import normalize           # For normalizing\n",
        "import seaborn as sns                                 # For plots"
      ]
    },
    {
      "cell_type": "markdown",
      "metadata": {},
      "source": [
        "## Change default chart layout"
      ]
    },
    {
      "cell_type": "code",
      "execution_count": null,
      "metadata": {
        "colab": {
          "base_uri": "https://localhost:8080/",
          "height": 17
        },
        "id": "lWGusNNx0Kxs",
        "outputId": "e14a91ae-e65d-428a-dc4b-ddeaaddcda00"
      },
      "outputs": [],
      "source": [
        "# Show charts when running kernel\n",
        "init_notebook_mode(connected=True)\n",
        "\n",
        "# Change default background color for all visualizations\n",
        "layout=go.Layout(paper_bgcolor='rgba(0,0,0,0)', plot_bgcolor='rgba(250,250,250,0.8)')\n",
        "fig = go.Figure(layout=layout)\n",
        "templated_fig = pio.to_templated(fig)\n",
        "pio.templates['my_template'] = templated_fig.layout.template\n",
        "pio.templates.default = 'my_template'"
      ]
    },
    {
      "cell_type": "markdown",
      "metadata": {},
      "source": [
        "## Download datasets"
      ]
    },
    {
      "cell_type": "code",
      "execution_count": null,
      "metadata": {
        "colab": {
          "base_uri": "https://localhost:8080/"
        },
        "id": "32DbZaSkatlE",
        "outputId": "091003ce-b67a-4b41-fb96-08c80a081bdc"
      },
      "outputs": [],
      "source": [
        "# SnP500\n",
        "gdown.download(\"https://docs.google.com/uc?id=1KveL-W2L6YxO-1NKn0n6FeGTKLWgvAL4\", \"ES_continuous_adjusted_1min_2011_2018.txt\", quiet=False)\n",
        "\n",
        "# Nasdaq\n",
        "gdown.download(\"https://docs.google.com/uc?id=1NyHRoU2YiaCKIhy7afUTuAmC0haWK1Ny\", \"NQ_continuous_adjusted_1min_2011_2018.txt\", quiet=False)"
      ]
    },
    {
      "cell_type": "markdown",
      "metadata": {},
      "source": [
        "## Read datasets as CSV"
      ]
    },
    {
      "cell_type": "code",
      "execution_count": null,
      "metadata": {
        "colab": {
          "base_uri": "https://localhost:8080/",
          "height": 394
        },
        "id": "nokF9p-qYUno",
        "outputId": "82caac01-cffc-4b1b-b39d-8bd1b72f4d50"
      },
      "outputs": [],
      "source": [
        "ES_1min_raw = pd.read_csv('ES_continuous_adjusted_1min_2011_2018.txt', encoding='latin-1')\n",
        "ES_5min_raw = pd.read_csv('ES_continuous_adjusted_5min_2011_2018.txt', encoding='latin-1')\n",
        "ES_30min_raw = pd.read_csv('ES_continuous_adjusted_30min_2011_2018.txt', encoding='latin-1')\n",
        "ES_1hour_raw = pd.read_csv('ES_continuous_adjusted_1hour_2011_2018.txt', encoding='latin-1')\n",
        "\n",
        "NQ_1min_raw = pd.read_csv('NQ_continuous_adjusted_1min_2011_2018.txt', encoding='latin-1')\n",
        "NQ_5min_raw = pd.read_csv('NQ_continuous_adjusted_5min_2011_2018.txt', encoding='latin-1')\n",
        "NQ_30min_raw = pd.read_csv('NQ_continuous_adjusted_30min_2011_2018.txt', encoding='latin-1')\n",
        "NQ_1hour_raw = pd.read_csv('NQ_continuous_adjusted_1hour_2011_2018.txt', encoding='latin-1')"
      ]
    },
    {
      "cell_type": "markdown",
      "metadata": {},
      "source": [
        "## Calc Moving Average Data\n"
      ]
    },
    {
      "cell_type": "code",
      "execution_count": null,
      "metadata": {},
      "outputs": [],
      "source": [
        "# SnP500\n",
        "\n",
        "ES_1min_raw['EMA_9'] = ES_1min_raw['Close'].ewm(5).mean().shift()\n",
        "ES_1min_raw['SMA_50'] = ES_1min_raw['Close'].rolling(50).mean().shift()\n",
        "ES_1min_raw['SMA_100'] = ES_1min_raw['Close'].rolling(100).mean().shift()\n",
        "ES_1min_raw['SMA_200'] = ES_1min_raw['Close'].rolling(200).mean().shift()\n",
        "\n",
        "ES_5min_raw['EMA_9'] = ES_5min_raw['Close'].ewm(5).mean().shift()\n",
        "ES_5min_raw['SMA_50'] = ES_5min_raw['Close'].rolling(50).mean().shift()\n",
        "ES_5min_raw['SMA_100'] = ES_5min_raw['Close'].rolling(100).mean().shift()\n",
        "ES_5min_raw['SMA_200'] = ES_5min_raw['Close'].rolling(200).mean().shift()\n",
        "\n",
        "ES_30min_raw['EMA_9'] = ES_30min_raw['Close'].ewm(5).mean().shift()\n",
        "ES_30min_raw['SMA_50'] = ES_30min_raw['Close'].rolling(50).mean().shift()\n",
        "ES_30min_raw['SMA_100'] = ES_30min_raw['Close'].rolling(100).mean().shift()\n",
        "ES_30min_raw['SMA_200'] = ES_30min_raw['Close'].rolling(200).mean().shift()\n",
        "\n",
        "ES_1hour_raw['EMA_9'] = ES_1hour_raw['Close'].ewm(5).mean().shift()\n",
        "ES_1hour_raw['SMA_50'] = ES_1hour_raw['Close'].rolling(50).mean().shift()\n",
        "ES_1hour_raw['SMA_100'] = ES_1hour_raw['Close'].rolling(100).mean().shift()\n",
        "ES_1hour_raw['SMA_200'] = ES_1hour_raw['Close'].rolling(200).mean().shift()\n",
        "\n",
        "fig = go.Figure()\n",
        "fig.add_trace(go.Scatter(x=ES_1hour_raw.DateTime, y=ES_1hour_raw.EMA_9, name='EMA 9'))\n",
        "fig.add_trace(go.Scatter(x=ES_1hour_raw.DateTime, y=ES_1hour_raw.SMA_50, name='SMA 50'))\n",
        "fig.add_trace(go.Scatter(x=ES_1hour_raw.DateTime, y=ES_1hour_raw.SMA_100, name='SMA 100'))\n",
        "fig.add_trace(go.Scatter(x=ES_1hour_raw.DateTime, y=ES_1hour_raw.SMA_200, name='SMA 200'))\n",
        "fig.add_trace(go.Scatter(x=ES_1hour_raw.DateTime, y=ES_1hour_raw.Close, name='Close', line_color='dimgray', opacity=0.3))\n",
        "fig.show()\n",
        "\n",
        "# Nasdaq\n",
        "\n",
        "NQ_1min_raw['EMA_9'] = NQ_1min_raw['Close'].ewm(5).mean().shift()\n",
        "NQ_1min_raw['SMA_50'] = NQ_1min_raw['Close'].rolling(50).mean().shift()\n",
        "NQ_1min_raw['SMA_100'] = NQ_1min_raw['Close'].rolling(100).mean().shift()\n",
        "NQ_1min_raw['SMA_200'] = NQ_1min_raw['Close'].rolling(200).mean().shift()\n",
        "\n",
        "NQ_5min_raw['EMA_9'] = NQ_5min_raw['Close'].ewm(5).mean().shift()\n",
        "NQ_5min_raw['SMA_50'] = NQ_5min_raw['Close'].rolling(50).mean().shift()\n",
        "NQ_5min_raw['SMA_100'] = NQ_5min_raw['Close'].rolling(100).mean().shift()\n",
        "NQ_5min_raw['SMA_200'] = NQ_5min_raw['Close'].rolling(200).mean().shift()\n",
        "\n",
        "NQ_30min_raw['EMA_9'] = NQ_30min_raw['Close'].ewm(5).mean().shift()\n",
        "NQ_30min_raw['SMA_50'] = NQ_30min_raw['Close'].rolling(50).mean().shift()\n",
        "NQ_30min_raw['SMA_100'] = NQ_30min_raw['Close'].rolling(100).mean().shift()\n",
        "NQ_30min_raw['SMA_200'] = NQ_30min_raw['Close'].rolling(200).mean().shift()\n",
        "\n",
        "NQ_1hour_raw['EMA_9'] = NQ_1hour_raw['Close'].ewm(5).mean().shift()\n",
        "NQ_1hour_raw['SMA_50'] = NQ_1hour_raw['Close'].rolling(50).mean().shift()\n",
        "NQ_1hour_raw['SMA_100'] = NQ_1hour_raw['Close'].rolling(100).mean().shift()\n",
        "NQ_1hour_raw['SMA_200'] = NQ_1hour_raw['Close'].rolling(200).mean().shift()\n",
        "\n",
        "fig = go.Figure()\n",
        "fig.add_trace(go.Scatter(x=NQ_1hour_raw.DateTime, y=NQ_1hour_raw.EMA_9, name='EMA 9'))\n",
        "fig.add_trace(go.Scatter(x=NQ_1hour_raw.DateTime, y=NQ_1hour_raw.SMA_50, name='SMA 50'))\n",
        "fig.add_trace(go.Scatter(x=NQ_1hour_raw.DateTime, y=NQ_1hour_raw.SMA_100, name='SMA 100'))\n",
        "fig.add_trace(go.Scatter(x=NQ_1hour_raw.DateTime, y=NQ_1hour_raw.SMA_200, name='SMA 200'))\n",
        "fig.add_trace(go.Scatter(x=NQ_1hour_raw.DateTime, y=NQ_1hour_raw.Close, name='Close', line_color='dimgray', opacity=0.3))\n",
        "fig.show()"
      ]
    }
  ],
  "metadata": {
    "accelerator": "GPU",
    "colab": {
      "provenance": []
    },
    "kernelspec": {
      "display_name": "Python 3",
      "name": "python3"
    },
    "language_info": {
      "codemirror_mode": {
        "name": "ipython",
        "version": 3
      },
      "file_extension": ".py",
      "mimetype": "text/x-python",
      "name": "python",
      "nbconvert_exporter": "python",
      "pygments_lexer": "ipython3",
      "version": "3.11.4"
    }
  },
  "nbformat": 4,
  "nbformat_minor": 0
}
