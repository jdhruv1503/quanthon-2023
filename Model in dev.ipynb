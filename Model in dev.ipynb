{
  "cells": [
    {
      "cell_type": "markdown",
      "metadata": {
        "id": "VWo2G_9wdiNM"
      },
      "source": [
        "## References\n",
        "\n",
        "https://www.kaggle.com/code/mtszkw/technical-indicators-for-trading-stocks\n",
        "<br>\n",
        "https://www.kaggle.com/code/thebrownviking20/everything-you-can-do-with-a-time-series\n",
        "<br>\n",
        "https://www.diva-portal.org/smash/get/diva2:1775077/FULLTEXT01.pdf\n",
        "<br>\n",
        "https://pub.towardsai.net/predicting-stock-prices-using-arima-fourier-transforms-and-technical-indicators-with-deep-43a164859683\n"
      ]
    },
    {
      "cell_type": "markdown",
      "metadata": {},
      "source": [
        "## _Time Series theek krna mat bhoolna_\n",
        "## _Remove weekends Pilich_"
      ]
    },
    {
      "cell_type": "markdown",
      "metadata": {
        "id": "wRyZc9p6Wmxk"
      },
      "source": [
        "## Import dependencies"
      ]
    },
    {
      "cell_type": "code",
      "execution_count": 50,
      "metadata": {},
      "outputs": [
        {
          "name": "stderr",
          "output_type": "stream",
          "text": [
            "\n",
            "[notice] A new release of pip is available: 23.1.2 -> 23.2.1\n",
            "[notice] To update, run: python.exe -m pip install --upgrade pip\n"
          ]
        }
      ],
      "source": [
        "! pip install -r requirements.txt --quiet"
      ]
    },
    {
      "cell_type": "code",
      "execution_count": 70,
      "metadata": {
        "id": "H-0FP4sLZFAM"
      },
      "outputs": [],
      "source": [
        "import os\n",
        "import pandas as pd\n",
        "import gdown\n",
        "from datetime import datetime, timedelta\n",
        "\n",
        "from plotly.offline import download_plotlyjs, init_notebook_mode, plot, iplot\n",
        "import plotly as py\n",
        "import plotly.io as pio\n",
        "import plotly.graph_objs as go\n",
        "from plotly.subplots import make_subplots\n",
        "\n",
        "from pmdarima.arima import auto_arima\n",
        "from statsmodels.tsa.arima.model import ARIMA\n",
        "\n",
        "import numpy as np                                    # For matrices!\n",
        "import matplotlib.pyplot as plt                       # To visualize\n",
        "from sklearn.model_selection import train_test_split\n",
        "from sklearn.linear_model import LinearRegression     # For the regression itself\n",
        "from sklearn.linear_model import SGDRegressor\n",
        "from sklearn.linear_model import Ridge\n",
        "from sklearn.ensemble import RandomForestRegressor\n",
        "from sklearn.tree import DecisionTreeRegressor\n",
        "from sklearn import svm\n",
        "from sklearn.metrics import mean_squared_error, f1_score\n",
        "from sklearn.preprocessing import OneHotEncoder       # To convert discrete strings to vectors!\n",
        "from sklearn.preprocessing import normalize           # For normalizing\n",
        "import seaborn as sns                                 # For plots"
      ]
    },
    {
      "cell_type": "markdown",
      "metadata": {},
      "source": [
        "## Change default chart layout"
      ]
    },
    {
      "cell_type": "code",
      "execution_count": 52,
      "metadata": {
        "colab": {
          "base_uri": "https://localhost:8080/",
          "height": 17
        },
        "id": "lWGusNNx0Kxs",
        "outputId": "e14a91ae-e65d-428a-dc4b-ddeaaddcda00"
      },
      "outputs": [],
      "source": [
        "# # Show charts when running kernel\n",
        "# init_notebook_mode(connected=True)\n",
        "# \n",
        "# # Change default background color for all visualizations\n",
        "# layout=go.Layout(paper_bgcolor='rgba(0,0,0,0)', plot_bgcolor='rgba(250,250,250,0.8)')\n",
        "# fig = go.Figure(layout=layout)\n",
        "# templated_fig = pio.to_templated(fig)\n",
        "# pio.templates['my_template'] = templated_fig.layout.template\n",
        "# pio.templates.default = 'my_template'"
      ]
    },
    {
      "cell_type": "markdown",
      "metadata": {},
      "source": [
        "## Download datasets"
      ]
    },
    {
      "cell_type": "code",
      "execution_count": 53,
      "metadata": {
        "colab": {
          "base_uri": "https://localhost:8080/"
        },
        "id": "32DbZaSkatlE",
        "outputId": "091003ce-b67a-4b41-fb96-08c80a081bdc"
      },
      "outputs": [],
      "source": [
        "# # SnP500\n",
        "# gdown.download(\"https://docs.google.com/uc?id=1KveL-W2L6YxO-1NKn0n6FeGTKLWgvAL4\", \"ES_continuous_adjusted_1min_2011_2018.txt\", quiet=True)\n",
        "\n",
        "# # Nasdaq\n",
        "# gdown.download(\"https://docs.google.com/uc?id=1NyHRoU2YiaCKIhy7afUTuAmC0haWK1Ny\", \"NQ_continuous_adjusted_1min_2011_2018.txt\", quiet=True)"
      ]
    },
    {
      "cell_type": "markdown",
      "metadata": {},
      "source": [
        "## Read datasets as CSV"
      ]
    },
    {
      "cell_type": "code",
      "execution_count": 54,
      "metadata": {
        "colab": {
          "base_uri": "https://localhost:8080/",
          "height": 394
        },
        "id": "nokF9p-qYUno",
        "outputId": "82caac01-cffc-4b1b-b39d-8bd1b72f4d50"
      },
      "outputs": [],
      "source": [
        "ES_1min_raw = pd.read_csv('ES_continuous_adjusted_1min_2011_2018.txt', encoding='latin-1')\n",
        "ES_5min_raw = pd.read_csv('ES_continuous_adjusted_5min_2011_2018.txt', encoding='latin-1')\n",
        "ES_30min_raw = pd.read_csv('ES_continuous_adjusted_30min_2011_2018.txt', encoding='latin-1')\n",
        "ES_1hour_raw = pd.read_csv('ES_continuous_adjusted_1hour_2011_2018.txt', encoding='latin-1')\n",
        "\n",
        "NQ_1min_raw = pd.read_csv('NQ_continuous_adjusted_1min_2011_2018.txt', encoding='latin-1')\n",
        "NQ_5min_raw = pd.read_csv('NQ_continuous_adjusted_5min_2011_2018.txt', encoding='latin-1')\n",
        "NQ_30min_raw = pd.read_csv('NQ_continuous_adjusted_30min_2011_2018.txt', encoding='latin-1')\n",
        "NQ_1hour_raw = pd.read_csv('NQ_continuous_adjusted_1hour_2011_2018.txt', encoding='latin-1')"
      ]
    },
    {
      "cell_type": "markdown",
      "metadata": {},
      "source": [
        "# Data Processing"
      ]
    },
    {
      "cell_type": "markdown",
      "metadata": {},
      "source": [
        "## I. Moving Average\n",
        "\n",
        "Moving Averages (MA) help to smooth out stock prices on a chart by filtering out short-term price fluctuations. We calculate moving averages over a defined period of time e.g. last 9, 50 or 200 days. There are two (most common) averages used in technical analysis which are:\n",
        "\n",
        "- Simple Moving Average (SMA) - a simple average calculated over last N days e.g. 50, 100 or 200,\n",
        "- Exponential Moving Average (EMA) - an average where greater weights are applied to recent prices.\n",
        "MAs and their crossovers (see $Golden\\ Cross$ and $Death\\ Cross$) are often used as trade signals as they are so simple yet powerful."
      ]
    },
    {
      "cell_type": "code",
      "execution_count": 55,
      "metadata": {},
      "outputs": [],
      "source": [
        "# SnP500\n",
        "\n",
        "ES_1min_raw['EMA_9'] = ES_1min_raw['Close'].ewm(7200).mean().shift()\n",
        "ES_1min_raw['SMA_50'] = ES_1min_raw['Close'].rolling(72000).mean().shift()\n",
        "ES_1min_raw['SMA_100'] = ES_1min_raw['Close'].rolling(144000).mean().shift()\n",
        "ES_1min_raw['SMA_200'] = ES_1min_raw['Close'].rolling(288000).mean().shift()\n",
        "\n",
        "ES_5min_raw['EMA_9'] = ES_5min_raw['Close'].ewm(1440).mean().shift()\n",
        "ES_5min_raw['SMA_50'] = ES_5min_raw['Close'].rolling(14400).mean().shift()\n",
        "ES_5min_raw['SMA_100'] = ES_5min_raw['Close'].rolling(28800).mean().shift()\n",
        "ES_5min_raw['SMA_200'] = ES_5min_raw['Close'].rolling(57600).mean().shift()\n",
        "\n",
        "ES_30min_raw['EMA_9'] = ES_30min_raw['Close'].ewm(240).mean().shift()\n",
        "ES_30min_raw['SMA_50'] = ES_30min_raw['Close'].rolling(2400).mean().shift()\n",
        "ES_30min_raw['SMA_100'] = ES_30min_raw['Close'].rolling(4800).mean().shift()\n",
        "ES_30min_raw['SMA_200'] = ES_30min_raw['Close'].rolling(9600).mean().shift()\n",
        "\n",
        "ES_1hour_raw['EMA_9'] = ES_1hour_raw['Close'].ewm(120).mean().shift()\n",
        "ES_1hour_raw['SMA_50'] = ES_1hour_raw['Close'].rolling(1200).mean().shift()\n",
        "ES_1hour_raw['SMA_100'] = ES_1hour_raw['Close'].rolling(2400).mean().shift()\n",
        "ES_1hour_raw['SMA_200'] = ES_1hour_raw['Close'].rolling(4800).mean().shift()\n",
        "\n",
        "# Nasdaq\n",
        "\n",
        "NQ_1min_raw['EMA_9'] = NQ_1min_raw['Close'].ewm(7200).mean().shift()\n",
        "NQ_1min_raw['SMA_50'] = NQ_1min_raw['Close'].rolling(72000).mean().shift()\n",
        "NQ_1min_raw['SMA_100'] = NQ_1min_raw['Close'].rolling(144000).mean().shift()\n",
        "NQ_1min_raw['SMA_200'] = NQ_1min_raw['Close'].rolling(288000).mean().shift()\n",
        "\n",
        "NQ_5min_raw['EMA_9'] = NQ_5min_raw['Close'].ewm(1440).mean().shift()\n",
        "NQ_5min_raw['SMA_50'] = NQ_5min_raw['Close'].rolling(14400).mean().shift()\n",
        "NQ_5min_raw['SMA_100'] = NQ_5min_raw['Close'].rolling(28800).mean().shift()\n",
        "NQ_5min_raw['SMA_200'] = NQ_5min_raw['Close'].rolling(57600).mean().shift()\n",
        "\n",
        "NQ_30min_raw['EMA_9'] = NQ_30min_raw['Close'].ewm(240).mean().shift()\n",
        "NQ_30min_raw['SMA_50'] = NQ_30min_raw['Close'].rolling(2400).mean().shift()\n",
        "NQ_30min_raw['SMA_100'] = NQ_30min_raw['Close'].rolling(4800).mean().shift()\n",
        "NQ_30min_raw['SMA_200'] = NQ_30min_raw['Close'].rolling(9600).mean().shift()\n",
        "\n",
        "NQ_1hour_raw['EMA_9'] = NQ_1hour_raw['Close'].ewm(120).mean().shift()\n",
        "NQ_1hour_raw['SMA_50'] = NQ_1hour_raw['Close'].rolling(1200).mean().shift()\n",
        "NQ_1hour_raw['SMA_100'] = NQ_1hour_raw['Close'].rolling(2400).mean().shift()\n",
        "NQ_1hour_raw['SMA_200'] = NQ_1hour_raw['Close'].rolling(4800).mean().shift()"
      ]
    },
    {
      "cell_type": "code",
      "execution_count": 56,
      "metadata": {},
      "outputs": [],
      "source": [
        "# Plotting MA\n",
        "\n",
        "def plotMA(ES_1hour_raw):\n",
        "    fig = go.Figure()\n",
        "    fig.add_trace(go.Scatter(x=ES_1hour_raw.DateTime, y=ES_1hour_raw.EMA_9, name='EMA 9'))\n",
        "    fig.add_trace(go.Scatter(x=ES_1hour_raw.DateTime, y=ES_1hour_raw.SMA_50, name='SMA 50'))\n",
        "    fig.add_trace(go.Scatter(x=ES_1hour_raw.DateTime, y=ES_1hour_raw.SMA_100, name='SMA 100'))\n",
        "    fig.add_trace(go.Scatter(x=ES_1hour_raw.DateTime, y=ES_1hour_raw.SMA_200, name='SMA 200'))\n",
        "    fig.add_trace(go.Scatter(x=ES_1hour_raw.DateTime, y=ES_1hour_raw.Close, name='Close', line_color='dimgray', opacity=0.3))\n",
        "    fig.show()\n",
        "\n",
        "# plotMA(ES_1hour_raw)\n",
        "# plotMA(NQ_1hour_raw)"
      ]
    },
    {
      "cell_type": "markdown",
      "metadata": {},
      "source": [
        "## II. RSI\n",
        "\n",
        "Another commonly used indicator is a Relative Strength Index (RSI) that indicates magnitude of recent price changes. It can show that a stock is either overbought or oversold. Typically RSI value of 70 and above signal that a stock is becoming overbought/overvalued, meanwhile value of 30 and less can mean that it is oversold. Full range of RSI is from 0 to 100."
      ]
    },
    {
      "cell_type": "code",
      "execution_count": 57,
      "metadata": {},
      "outputs": [],
      "source": [
        "def RSI(df, n=14):\n",
        "    close = df['Close']\n",
        "    delta = close.diff()\n",
        "    delta = delta[1:]\n",
        "    pricesUp = delta.copy()\n",
        "    pricesDown = delta.copy()\n",
        "    pricesUp[pricesUp < 0] = 0\n",
        "    pricesDown[pricesDown > 0] = 0\n",
        "    rollUp = pricesUp.rolling(n).mean()\n",
        "    rollDown = pricesDown.abs().rolling(n).mean()\n",
        "    rs = rollUp / rollDown\n",
        "    rsi = 100.0 - (100.0 / (1.0 + rs))\n",
        "    return rsi\n",
        "\n",
        "# SnP500\n",
        "\n",
        "ES_1min_raw['RSI'] = RSI(ES_1min_raw).fillna(0)\n",
        "ES_5min_raw['RSI'] = RSI(ES_5min_raw).fillna(0)\n",
        "ES_30min_raw['RSI'] = RSI(ES_30min_raw).fillna(0)\n",
        "ES_1hour_raw['RSI'] = RSI(ES_1hour_raw).fillna(0)\n",
        "\n",
        "# Nasdaq\n",
        "\n",
        "NQ_1min_raw['RSI'] = RSI(NQ_1min_raw).fillna(0)\n",
        "NQ_5min_raw['RSI'] = RSI(NQ_5min_raw).fillna(0)\n",
        "NQ_30min_raw['RSI'] = RSI(NQ_30min_raw).fillna(0)\n",
        "NQ_1hour_raw['RSI'] = RSI(NQ_1hour_raw).fillna(0)"
      ]
    },
    {
      "cell_type": "code",
      "execution_count": 58,
      "metadata": {},
      "outputs": [],
      "source": [
        "# Plotting RSI\n",
        "\n",
        "def plotRSI(df):\n",
        "    num_days = len(df)\n",
        "    fig = go.Figure(go.Scatter(x=df.DateTime.tail(num_days), y=df.RSI.tail(num_days)))\n",
        "    fig.add_hline(y=70)\n",
        "    fig.add_hline(y=30)\n",
        "    fig.show()\n",
        "\n",
        "# plotRSI(NQ_1hour_raw)\n",
        "# plotRSI(ES_1hour_raw)"
      ]
    },
    {
      "cell_type": "markdown",
      "metadata": {},
      "source": [
        "## III. MACD\n",
        "\n",
        "Moving Average Convergence Divergence (MACD) is an indicator which shows the relationship between two exponential moving averages i.e. 12-day and 26-day EMAs. We obtain MACD by substracting 26-day EMA (also called slow EMA) from the 12-day EMA (or fast EMA)."
      ]
    },
    {
      "cell_type": "code",
      "execution_count": 59,
      "metadata": {},
      "outputs": [],
      "source": [
        "def calc_macd(df, timescale):\n",
        "    df[\"EMA_12\"] = pd.Series(df['Close'].ewm(span=12*timescale, min_periods=12).mean())\n",
        "    df[\"EMA_26\"] = pd.Series(df['Close'].ewm(span=26*timescale, min_periods=26).mean())\n",
        "    df[\"MACD\"] = pd.Series(df.EMA_12 - df.EMA_26)\n",
        "    df[\"MACD_signal\"] = pd.Series(df.MACD.ewm(span=9*timescale, min_periods=9).mean())\n",
        "\n",
        "# SnP500\n",
        "\n",
        "calc_macd(ES_1min_raw, 1440)\n",
        "calc_macd(ES_5min_raw, 288)\n",
        "calc_macd(ES_30min_raw, 48)\n",
        "calc_macd(ES_1hour_raw, 24)\n",
        "\n",
        "# Nasdaq\n",
        "\n",
        "calc_macd(NQ_1min_raw, 1440)\n",
        "calc_macd(NQ_5min_raw, 288)\n",
        "calc_macd(NQ_30min_raw, 48)\n",
        "calc_macd(NQ_1hour_raw, 24)"
      ]
    },
    {
      "cell_type": "code",
      "execution_count": 60,
      "metadata": {},
      "outputs": [],
      "source": [
        "# Plotting MACD\n",
        "\n",
        "def plotMACD(df):\n",
        "    fig = make_subplots(rows=2, cols=1)\n",
        "    fig.add_trace(go.Scatter(x=df.DateTime, y=df.Close, name='Close'), row=1, col=1)\n",
        "    fig.add_trace(go.Scatter(x=df.DateTime, y=df.EMA_12, name='EMA 12'), row=1, col=1)\n",
        "    fig.add_trace(go.Scatter(x=df.DateTime, y=df.EMA_26, name='EMA 26'), row=1, col=1)\n",
        "    fig.add_trace(go.Scatter(x=df.DateTime, y=df.MACD, name='MACD'), row=2, col=1)\n",
        "    fig.add_trace(go.Scatter(x=df.DateTime, y=df.MACD_signal, name='Signal line'), row=2, col=1)\n",
        "    fig.show()\n",
        "\n",
        "# plotMACD(ES_1hour_raw)\n",
        "# plotMACD(NQ_1hour_raw)"
      ]
    },
    {
      "cell_type": "markdown",
      "metadata": {},
      "source": [
        "## IV. Stochastic\n",
        "\n",
        "The last technical tool in this notebook is a stochastic oscillator is quite similar to RSI in the sense that it's values (also in range 0-100) can indicate whether a stock is overbought/oversold or not. It is arguably the most complicated indicator compared to the ones introduced earlier. Stochastic can be calculated as:\n",
        "\n",
        "$$\\%K=\\frac{C−L_{14}}{H_{14}−L_{14}}×100$$\n",
        " \n",
        "where:  $C$\n",
        "  is the most recent close price,  $L_{14}$\n",
        "  and  $H_{14}$\n",
        "  are the lowest/highest prices traded in last 14 days.\n",
        "\n",
        "This  $%K$\n",
        "  stochastic is often referred as the \"slow stochastic indicator\". There is also a \"fast stochastic indicator\" that can be obtained as:\n",
        "\n",
        "$$\\%D=SMA_3(\\%K)$$"
      ]
    },
    {
      "cell_type": "code",
      "execution_count": 61,
      "metadata": {},
      "outputs": [],
      "source": [
        "def calc_stochastic(df, k=14, d=3):\n",
        "    df = df.copy()\n",
        "    low_min  = df['Low'].rolling(window=k).min()\n",
        "    high_max = df['High'].rolling( window=k).max()\n",
        "    df['stoch_k'] = 100 * (df['Close'] - low_min)/(high_max - low_min)\n",
        "    df['stoch_d'] = df['stoch_k'].rolling(window=d).mean()\n",
        "\n",
        "# SnP500\n",
        "\n",
        "calc_stochastic(ES_1min_raw)\n",
        "calc_stochastic(ES_5min_raw)\n",
        "calc_stochastic(ES_30min_raw)\n",
        "calc_stochastic(ES_1hour_raw)\n",
        "\n",
        "# Nasdaq\n",
        "\n",
        "calc_stochastic(NQ_1min_raw)\n",
        "calc_stochastic(NQ_5min_raw)\n",
        "calc_stochastic(NQ_30min_raw)\n",
        "calc_stochastic(NQ_1hour_raw)"
      ]
    },
    {
      "cell_type": "code",
      "execution_count": 62,
      "metadata": {},
      "outputs": [],
      "source": [
        "# Plotting stochastics\n",
        "\n",
        "def plot_stochastic(df):\n",
        "    fig = go.Figure()\n",
        "    fig.add_trace(go.Scatter(x=df.DateTime, y=df.stoch_k, name='K stochastic'))\n",
        "    fig.add_trace(go.Scatter(x=df.DateTime, y=df.stoch_d, name='D stochastic'))\n",
        "    fig.show()\n",
        "\n",
        "# plot_stochastic(ES_5min_raw)\n",
        "# plot_stochastic(ES_1hour_raw)"
      ]
    },
    {
      "cell_type": "markdown",
      "metadata": {},
      "source": [
        "## V. Differencing"
      ]
    },
    {
      "cell_type": "code",
      "execution_count": 63,
      "metadata": {},
      "outputs": [],
      "source": [
        "# SnP500\n",
        "\n",
        "ES_1min_raw[\"Difference\"] = ES_1min_raw.Close.diff(1)\n",
        "ES_5min_raw[\"Difference\"] = ES_5min_raw.Close.diff(1)\n",
        "ES_30min_raw[\"Difference\"] = ES_30min_raw.Close.diff(1)\n",
        "ES_1hour_raw[\"Difference\"] = ES_1hour_raw.Close.diff(1)\n",
        "\n",
        "# Nasdaq\n",
        "\n",
        "NQ_1min_raw[\"Difference\"] = NQ_1min_raw.Close.diff(1)\n",
        "NQ_5min_raw[\"Difference\"] = NQ_5min_raw.Close.diff(1)\n",
        "NQ_30min_raw[\"Difference\"] = NQ_30min_raw.Close.diff(1)\n",
        "NQ_1hour_raw[\"Difference\"] = NQ_1hour_raw.Close.diff(1)"
      ]
    },
    {
      "cell_type": "markdown",
      "metadata": {},
      "source": [
        "## VI. On-Balance Volume"
      ]
    },
    {
      "cell_type": "code",
      "execution_count": 64,
      "metadata": {},
      "outputs": [],
      "source": [
        "def calc_obv(df):\n",
        "    df[\"OBV\"] = np.where(df['Close'] > df['Close'].shift(1), df['Volume'], \n",
        "    np.where(df['Close'] < df['Close'].shift(1), -df['Volume'], 0)).cumsum()\n",
        "\n",
        "# SnP500\n",
        "\n",
        "calc_obv(ES_1min_raw)\n",
        "calc_obv(ES_5min_raw)\n",
        "calc_obv(ES_30min_raw)\n",
        "calc_obv(ES_1hour_raw)\n",
        "\n",
        "# Nasdaq\n",
        "\n",
        "calc_obv(NQ_1min_raw)\n",
        "calc_obv(NQ_5min_raw)\n",
        "calc_obv(NQ_30min_raw)\n",
        "calc_obv(NQ_1hour_raw)"
      ]
    },
    {
      "cell_type": "code",
      "execution_count": 66,
      "metadata": {},
      "outputs": [],
      "source": [
        "# Plotting OBV\n",
        "\n",
        "def plot_obv(df):\n",
        "    fig = go.Figure()\n",
        "    fig.add_trace(go.Scatter(x=df.DateTime, y=df.OBV))\n",
        "    fig.show()\n",
        "\n",
        "# plot_obv(ES_5min_raw)\n",
        "# plot_obv(ES_1hour_raw)"
      ]
    },
    {
      "cell_type": "markdown",
      "metadata": {},
      "source": [
        "# Model Training"
      ]
    },
    {
      "cell_type": "markdown",
      "metadata": {},
      "source": [
        "## ARIMA Model parameter tuning and training"
      ]
    },
    {
      "cell_type": "code",
      "execution_count": 69,
      "metadata": {},
      "outputs": [
        {
          "name": "stdout",
          "output_type": "stream",
          "text": [
            "Performing stepwise search to minimize aic\n",
            " ARIMA(2,1,2)(0,0,0)[0] intercept   : AIC=355344.254, Time=5.60 sec\n",
            " ARIMA(0,1,0)(0,0,0)[0] intercept   : AIC=355357.312, Time=0.92 sec\n",
            " ARIMA(1,1,0)(0,0,0)[0] intercept   : AIC=355342.167, Time=1.13 sec\n",
            " ARIMA(0,1,1)(0,0,0)[0] intercept   : AIC=355342.478, Time=2.18 sec\n",
            " ARIMA(0,1,0)(0,0,0)[0]             : AIC=355359.097, Time=0.46 sec\n",
            " ARIMA(2,1,0)(0,0,0)[0] intercept   : AIC=355340.170, Time=1.50 sec\n",
            " ARIMA(3,1,0)(0,0,0)[0] intercept   : AIC=355341.041, Time=2.01 sec\n",
            " ARIMA(2,1,1)(0,0,0)[0] intercept   : AIC=355341.782, Time=7.36 sec\n",
            " ARIMA(1,1,1)(0,0,0)[0] intercept   : AIC=355339.682, Time=4.38 sec\n",
            " ARIMA(1,1,2)(0,0,0)[0] intercept   : AIC=355341.431, Time=6.18 sec\n",
            " ARIMA(0,1,2)(0,0,0)[0] intercept   : AIC=355340.346, Time=3.92 sec\n",
            " ARIMA(1,1,1)(0,0,0)[0]             : AIC=355341.235, Time=1.37 sec\n",
            "\n",
            "Best model:  ARIMA(1,1,1)(0,0,0)[0] intercept\n",
            "Total fit time: 37.015 seconds\n",
            "                               SARIMAX Results                                \n",
            "==============================================================================\n",
            "Dep. Variable:                      y   No. Observations:                48181\n",
            "Model:               SARIMAX(1, 1, 1)   Log Likelihood             -177665.841\n",
            "Date:                Sat, 29 Jul 2023   AIC                         355339.682\n",
            "Time:                        22:08:19   BIC                         355374.812\n",
            "Sample:                             0   HQIC                        355350.705\n",
            "                              - 48181                                         \n",
            "Covariance Type:                  opg                                         \n",
            "==============================================================================\n",
            "                 coef    std err          z      P>|z|      [0.025      0.975]\n",
            "------------------------------------------------------------------------------\n",
            "intercept      0.0422      0.023      1.813      0.070      -0.003       0.088\n",
            "ar.L1          0.5066      0.064      7.951      0.000       0.382       0.631\n",
            "ma.L1         -0.4883      0.064     -7.598      0.000      -0.614      -0.362\n",
            "sigma2        93.4349      0.154    606.508      0.000      93.133      93.737\n",
            "===================================================================================\n",
            "Ljung-Box (L1) (Q):                   0.01   Jarque-Bera (JB):           1732514.47\n",
            "Prob(Q):                              0.94   Prob(JB):                         0.00\n",
            "Heteroskedasticity (H):               5.56   Skew:                            -0.85\n",
            "Prob(H) (two-sided):                  0.00   Kurtosis:                        32.33\n",
            "===================================================================================\n",
            "\n",
            "Warnings:\n",
            "[1] Covariance matrix calculated using the outer product of gradients (complex-step).\n"
          ]
        }
      ],
      "source": [
        "model = auto_arima(NQ_1hour_raw['Close'], seasonal=False, trace=True)\n",
        "print(model.summary())"
      ]
    },
    {
      "cell_type": "code",
      "execution_count": 79,
      "metadata": {},
      "outputs": [
        {
          "name": "stdout",
          "output_type": "stream",
          "text": [
            "['DateTime', 'Open', 'High', 'Low', 'Close', 'Volume', 'EMA_9', 'SMA_50', 'SMA_100', 'SMA_200', 'RSI', 'EMA_12', 'EMA_26', 'MACD', 'MACD_signal', 'Difference', 'OBV']\n"
          ]
        },
        {
          "ename": "TypeError",
          "evalue": "ufunc 'isnan' not supported for the input types, and the inputs could not be safely coerced to any supported types according to the casting rule ''safe''",
          "output_type": "error",
          "traceback": [
            "\u001b[1;31m---------------------------------------------------------------------------\u001b[0m",
            "\u001b[1;31mTypeError\u001b[0m                                 Traceback (most recent call last)",
            "Cell \u001b[1;32mIn[79], line 24\u001b[0m\n\u001b[0;32m     21\u001b[0m predictions \u001b[39m=\u001b[39m \u001b[39mlist\u001b[39m()\n\u001b[0;32m     22\u001b[0m \u001b[39mfor\u001b[39;00m t \u001b[39min\u001b[39;00m \u001b[39mrange\u001b[39m(\u001b[39mlen\u001b[39m(test)):\n\u001b[0;32m     23\u001b[0m     \u001b[39m# Generate a prediction\u001b[39;00m\n\u001b[1;32m---> 24\u001b[0m     yhat \u001b[39m=\u001b[39m arima_forecast(history)\n\u001b[0;32m     25\u001b[0m     predictions\u001b[39m.\u001b[39mappend(yhat)\n\u001b[0;32m     26\u001b[0m     \u001b[39m# Add the predicted value to the training set\u001b[39;00m\n",
            "Cell \u001b[1;32mIn[79], line 6\u001b[0m, in \u001b[0;36marima_forecast\u001b[1;34m(history)\u001b[0m\n\u001b[0;32m      2\u001b[0m \u001b[39mdef\u001b[39;00m \u001b[39marima_forecast\u001b[39m(history):\n\u001b[0;32m      3\u001b[0m \n\u001b[0;32m      4\u001b[0m     \u001b[39m# Fit the model\u001b[39;00m\n\u001b[0;32m      5\u001b[0m     \u001b[39mprint\u001b[39m(history)\n\u001b[1;32m----> 6\u001b[0m     model \u001b[39m=\u001b[39m ARIMA(history, order\u001b[39m=\u001b[39;49m(\u001b[39m1\u001b[39;49m,\u001b[39m1\u001b[39;49m,\u001b[39m1\u001b[39;49m))\n\u001b[0;32m      7\u001b[0m     model_fit \u001b[39m=\u001b[39m model\u001b[39m.\u001b[39mfit(disp\u001b[39m=\u001b[39m\u001b[39m0\u001b[39m)\n\u001b[0;32m      9\u001b[0m     \u001b[39m# Make the prediction\u001b[39;00m\n",
            "File \u001b[1;32mc:\\Python311\\Lib\\site-packages\\statsmodels\\tsa\\arima\\model.py:158\u001b[0m, in \u001b[0;36mARIMA.__init__\u001b[1;34m(self, endog, exog, order, seasonal_order, trend, enforce_stationarity, enforce_invertibility, concentrate_scale, trend_offset, dates, freq, missing, validate_specification)\u001b[0m\n\u001b[0;32m    151\u001b[0m     trend \u001b[39m=\u001b[39m \u001b[39m'\u001b[39m\u001b[39mn\u001b[39m\u001b[39m'\u001b[39m\n\u001b[0;32m    153\u001b[0m \u001b[39m# Construct the specification\u001b[39;00m\n\u001b[0;32m    154\u001b[0m \u001b[39m# (don't pass specific values of enforce stationarity/invertibility,\u001b[39;00m\n\u001b[0;32m    155\u001b[0m \u001b[39m# because we don't actually want to restrict the estimators based on\u001b[39;00m\n\u001b[0;32m    156\u001b[0m \u001b[39m# this criteria. Instead, we'll just make sure that the parameter\u001b[39;00m\n\u001b[0;32m    157\u001b[0m \u001b[39m# estimates from those methods satisfy the criteria.)\u001b[39;00m\n\u001b[1;32m--> 158\u001b[0m \u001b[39mself\u001b[39m\u001b[39m.\u001b[39m_spec_arima \u001b[39m=\u001b[39m SARIMAXSpecification(\n\u001b[0;32m    159\u001b[0m     endog, exog\u001b[39m=\u001b[39;49mexog, order\u001b[39m=\u001b[39;49morder, seasonal_order\u001b[39m=\u001b[39;49mseasonal_order,\n\u001b[0;32m    160\u001b[0m     trend\u001b[39m=\u001b[39;49mtrend, enforce_stationarity\u001b[39m=\u001b[39;49m\u001b[39mNone\u001b[39;49;00m, enforce_invertibility\u001b[39m=\u001b[39;49m\u001b[39mNone\u001b[39;49;00m,\n\u001b[0;32m    161\u001b[0m     concentrate_scale\u001b[39m=\u001b[39;49mconcentrate_scale, trend_offset\u001b[39m=\u001b[39;49mtrend_offset,\n\u001b[0;32m    162\u001b[0m     dates\u001b[39m=\u001b[39;49mdates, freq\u001b[39m=\u001b[39;49mfreq, missing\u001b[39m=\u001b[39;49mmissing,\n\u001b[0;32m    163\u001b[0m     validate_specification\u001b[39m=\u001b[39;49mvalidate_specification)\n\u001b[0;32m    164\u001b[0m exog \u001b[39m=\u001b[39m \u001b[39mself\u001b[39m\u001b[39m.\u001b[39m_spec_arima\u001b[39m.\u001b[39m_model\u001b[39m.\u001b[39mdata\u001b[39m.\u001b[39morig_exog\n\u001b[0;32m    166\u001b[0m \u001b[39m# Raise an error if we have a constant in an integrated model\u001b[39;00m\n",
            "File \u001b[1;32mc:\\Python311\\Lib\\site-packages\\statsmodels\\tsa\\arima\\specification.py:458\u001b[0m, in \u001b[0;36mSARIMAXSpecification.__init__\u001b[1;34m(self, endog, exog, order, seasonal_order, ar_order, diff, ma_order, seasonal_ar_order, seasonal_diff, seasonal_ma_order, seasonal_periods, trend, enforce_stationarity, enforce_invertibility, concentrate_scale, trend_offset, dates, freq, missing, validate_specification)\u001b[0m\n\u001b[0;32m    452\u001b[0m \u001b[39mif\u001b[39;00m (validate_specification \u001b[39mand\u001b[39;00m \u001b[39mnot\u001b[39;00m faux_endog \u001b[39mand\u001b[39;00m\n\u001b[0;32m    453\u001b[0m         \u001b[39mself\u001b[39m\u001b[39m.\u001b[39mendog\u001b[39m.\u001b[39mndim \u001b[39m>\u001b[39m \u001b[39m1\u001b[39m \u001b[39mand\u001b[39;00m \u001b[39mself\u001b[39m\u001b[39m.\u001b[39mendog\u001b[39m.\u001b[39mshape[\u001b[39m1\u001b[39m] \u001b[39m>\u001b[39m \u001b[39m1\u001b[39m):\n\u001b[0;32m    454\u001b[0m     \u001b[39mraise\u001b[39;00m \u001b[39mValueError\u001b[39;00m(\u001b[39m'\u001b[39m\u001b[39mSARIMAX models require univariate `endog`. Got\u001b[39m\u001b[39m'\u001b[39m\n\u001b[0;32m    455\u001b[0m                      \u001b[39m'\u001b[39m\u001b[39m shape \u001b[39m\u001b[39m%s\u001b[39;00m\u001b[39m.\u001b[39m\u001b[39m'\u001b[39m \u001b[39m%\u001b[39m \u001b[39mstr\u001b[39m(\u001b[39mself\u001b[39m\u001b[39m.\u001b[39mendog\u001b[39m.\u001b[39mshape))\n\u001b[0;32m    457\u001b[0m \u001b[39mself\u001b[39m\u001b[39m.\u001b[39m_has_missing \u001b[39m=\u001b[39m (\n\u001b[1;32m--> 458\u001b[0m     \u001b[39mNone\u001b[39;00m \u001b[39mif\u001b[39;00m faux_endog \u001b[39melse\u001b[39;00m np\u001b[39m.\u001b[39many(np\u001b[39m.\u001b[39;49misnan(\u001b[39mself\u001b[39;49m\u001b[39m.\u001b[39;49mendog)))\n",
            "\u001b[1;31mTypeError\u001b[0m: ufunc 'isnan' not supported for the input types, and the inputs could not be safely coerced to any supported types according to the casting rule ''safe''"
          ]
        }
      ],
      "source": [
        "# Define the ARIMA model\n",
        "def arima_forecast(history):\n",
        "\n",
        "    # Fit the model\n",
        "    print(history)\n",
        "    model = ARIMA(history, order=(1,1,1))\n",
        "    model_fit = model.fit(disp=0)\n",
        "    \n",
        "    # Make the prediction\n",
        "    output = model_fit.forecast()\n",
        "    yhat = output[0]\n",
        "    return yhat\n",
        "\n",
        "# Split data into train and test sets\n",
        "X = NQ_1hour_raw\n",
        "train, test = train_test_split(df, test_size=0.2)\n",
        "\n",
        "\n",
        "# Walk-forward validation\n",
        "history = [x for x in train]\n",
        "predictions = list()\n",
        "for t in range(len(test)):\n",
        "    # Generate a prediction\n",
        "    yhat = arima_forecast(history)\n",
        "    predictions.append(yhat)\n",
        "    # Add the predicted value to the training set\n",
        "    obs = test[t]\n",
        "    history.append(obs)"
      ]
    },
    {
      "cell_type": "code",
      "execution_count": null,
      "metadata": {},
      "outputs": [],
      "source": []
    }
  ],
  "metadata": {
    "accelerator": "GPU",
    "colab": {
      "provenance": []
    },
    "kernelspec": {
      "display_name": "Python 3",
      "name": "python3"
    },
    "language_info": {
      "codemirror_mode": {
        "name": "ipython",
        "version": 3
      },
      "file_extension": ".py",
      "mimetype": "text/x-python",
      "name": "python",
      "nbconvert_exporter": "python",
      "pygments_lexer": "ipython3",
      "version": "3.11.4"
    }
  },
  "nbformat": 4,
  "nbformat_minor": 0
}
