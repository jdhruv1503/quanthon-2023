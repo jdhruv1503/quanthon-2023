{
  "cells": [
    {
      "cell_type": "markdown",
      "metadata": {
        "id": "VWo2G_9wdiNM"
      },
      "source": [
        "# References\n",
        "\n",
        "https://www.kaggle.com/code/mtszkw/technical-indicators-for-trading-stocks\n",
        "https://www.kaggle.com/code/thebrownviking20/everything-you-can-do-with-a-time-series\n",
        "https://www.diva-portal.org/smash/get/diva2:1775077/FULLTEXT01.pdf\n",
        "https://pub.towardsai.net/predicting-stock-prices-using-arima-fourier-transforms-and-technical-indicators-with-deep-43a164859683\n"
      ]
    },
    {
      "cell_type": "markdown",
      "metadata": {
        "id": "wRyZc9p6Wmxk"
      },
      "source": [
        "## Import dependencies"
      ]
    },
    {
      "cell_type": "code",
      "execution_count": 14,
      "metadata": {},
      "outputs": [
        {
          "name": "stderr",
          "output_type": "stream",
          "text": [
            "\n",
            "[notice] A new release of pip is available: 23.1.2 -> 23.2.1\n",
            "[notice] To update, run: python.exe -m pip install --upgrade pip\n"
          ]
        },
        {
          "name": "stdout",
          "output_type": "stream",
          "text": [
            "Requirement already satisfied: pandas==2.0.3 in c:\\python311\\lib\\site-packages (from -r requirements.txt (line 1)) (2.0.3)\n",
            "Requirement already satisfied: plotly==5.15.0 in c:\\python311\\lib\\site-packages (from -r requirements.txt (line 2)) (5.15.0)\n",
            "Requirement already satisfied: seaborn==0.12.2 in c:\\python311\\lib\\site-packages (from -r requirements.txt (line 3)) (0.12.2)\n",
            "Requirement already satisfied: gdown==4.7.1 in c:\\python311\\lib\\site-packages (from -r requirements.txt (line 4)) (4.7.1)\n",
            "Requirement already satisfied: scikit-learn==1.3.0 in c:\\python311\\lib\\site-packages (from -r requirements.txt (line 5)) (1.3.0)\n",
            "Requirement already satisfied: python-dateutil>=2.8.2 in c:\\users\\jdhru\\appdata\\roaming\\python\\python311\\site-packages (from pandas==2.0.3->-r requirements.txt (line 1)) (2.8.2)\n",
            "Requirement already satisfied: pytz>=2020.1 in c:\\python311\\lib\\site-packages (from pandas==2.0.3->-r requirements.txt (line 1)) (2023.3)\n",
            "Requirement already satisfied: tzdata>=2022.1 in c:\\python311\\lib\\site-packages (from pandas==2.0.3->-r requirements.txt (line 1)) (2023.3)\n",
            "Requirement already satisfied: numpy>=1.21.0 in c:\\python311\\lib\\site-packages (from pandas==2.0.3->-r requirements.txt (line 1)) (1.25.1)\n",
            "Requirement already satisfied: tenacity>=6.2.0 in c:\\python311\\lib\\site-packages (from plotly==5.15.0->-r requirements.txt (line 2)) (8.2.2)\n",
            "Requirement already satisfied: packaging in c:\\users\\jdhru\\appdata\\roaming\\python\\python311\\site-packages (from plotly==5.15.0->-r requirements.txt (line 2)) (23.1)\n",
            "Requirement already satisfied: matplotlib!=3.6.1,>=3.1 in c:\\python311\\lib\\site-packages (from seaborn==0.12.2->-r requirements.txt (line 3)) (3.7.2)\n",
            "Requirement already satisfied: filelock in c:\\python311\\lib\\site-packages (from gdown==4.7.1->-r requirements.txt (line 4)) (3.12.2)\n",
            "Requirement already satisfied: requests[socks] in c:\\python311\\lib\\site-packages (from gdown==4.7.1->-r requirements.txt (line 4)) (2.31.0)\n",
            "Requirement already satisfied: six in c:\\users\\jdhru\\appdata\\roaming\\python\\python311\\site-packages (from gdown==4.7.1->-r requirements.txt (line 4)) (1.16.0)\n",
            "Requirement already satisfied: tqdm in c:\\python311\\lib\\site-packages (from gdown==4.7.1->-r requirements.txt (line 4)) (4.65.0)\n",
            "Requirement already satisfied: beautifulsoup4 in c:\\python311\\lib\\site-packages (from gdown==4.7.1->-r requirements.txt (line 4)) (4.12.2)\n",
            "Requirement already satisfied: scipy>=1.5.0 in c:\\python311\\lib\\site-packages (from scikit-learn==1.3.0->-r requirements.txt (line 5)) (1.11.1)\n",
            "Requirement already satisfied: joblib>=1.1.1 in c:\\python311\\lib\\site-packages (from scikit-learn==1.3.0->-r requirements.txt (line 5)) (1.3.1)\n",
            "Requirement already satisfied: threadpoolctl>=2.0.0 in c:\\python311\\lib\\site-packages (from scikit-learn==1.3.0->-r requirements.txt (line 5)) (3.2.0)\n",
            "Requirement already satisfied: contourpy>=1.0.1 in c:\\python311\\lib\\site-packages (from matplotlib!=3.6.1,>=3.1->seaborn==0.12.2->-r requirements.txt (line 3)) (1.1.0)\n",
            "Requirement already satisfied: cycler>=0.10 in c:\\python311\\lib\\site-packages (from matplotlib!=3.6.1,>=3.1->seaborn==0.12.2->-r requirements.txt (line 3)) (0.11.0)\n",
            "Requirement already satisfied: fonttools>=4.22.0 in c:\\python311\\lib\\site-packages (from matplotlib!=3.6.1,>=3.1->seaborn==0.12.2->-r requirements.txt (line 3)) (4.41.1)\n",
            "Requirement already satisfied: kiwisolver>=1.0.1 in c:\\python311\\lib\\site-packages (from matplotlib!=3.6.1,>=3.1->seaborn==0.12.2->-r requirements.txt (line 3)) (1.4.4)\n",
            "Requirement already satisfied: pillow>=6.2.0 in c:\\python311\\lib\\site-packages (from matplotlib!=3.6.1,>=3.1->seaborn==0.12.2->-r requirements.txt (line 3)) (10.0.0)\n",
            "Requirement already satisfied: pyparsing<3.1,>=2.3.1 in c:\\python311\\lib\\site-packages (from matplotlib!=3.6.1,>=3.1->seaborn==0.12.2->-r requirements.txt (line 3)) (3.0.9)\n",
            "Requirement already satisfied: soupsieve>1.2 in c:\\python311\\lib\\site-packages (from beautifulsoup4->gdown==4.7.1->-r requirements.txt (line 4)) (2.4.1)\n",
            "Requirement already satisfied: charset-normalizer<4,>=2 in c:\\python311\\lib\\site-packages (from requests[socks]->gdown==4.7.1->-r requirements.txt (line 4)) (3.2.0)\n",
            "Requirement already satisfied: idna<4,>=2.5 in c:\\python311\\lib\\site-packages (from requests[socks]->gdown==4.7.1->-r requirements.txt (line 4)) (3.4)\n",
            "Requirement already satisfied: urllib3<3,>=1.21.1 in c:\\python311\\lib\\site-packages (from requests[socks]->gdown==4.7.1->-r requirements.txt (line 4)) (2.0.4)\n",
            "Requirement already satisfied: certifi>=2017.4.17 in c:\\python311\\lib\\site-packages (from requests[socks]->gdown==4.7.1->-r requirements.txt (line 4)) (2023.7.22)\n",
            "Requirement already satisfied: PySocks!=1.5.7,>=1.5.6 in c:\\python311\\lib\\site-packages (from requests[socks]->gdown==4.7.1->-r requirements.txt (line 4)) (1.7.1)\n",
            "Requirement already satisfied: colorama in c:\\users\\jdhru\\appdata\\roaming\\python\\python311\\site-packages (from tqdm->gdown==4.7.1->-r requirements.txt (line 4)) (0.4.6)\n"
          ]
        }
      ],
      "source": [
        "! pip install -r requirements.txt"
      ]
    },
    {
      "cell_type": "code",
      "execution_count": 2,
      "metadata": {
        "id": "H-0FP4sLZFAM"
      },
      "outputs": [],
      "source": [
        "import os\n",
        "import pandas as pd\n",
        "import gdown\n",
        "\n",
        "from plotly.offline import download_plotlyjs, init_notebook_mode, plot, iplot\n",
        "import plotly as py\n",
        "import plotly.io as pio\n",
        "import plotly.graph_objs as go\n",
        "from plotly.subplots import make_subplots\n",
        "\n",
        "import numpy as np                                    # For matrices!\n",
        "import matplotlib.pyplot as plt                       # To visualize\n",
        "from sklearn.linear_model import LinearRegression     # For the regression itself\n",
        "from sklearn.linear_model import SGDRegressor\n",
        "from sklearn.linear_model import Ridge\n",
        "from sklearn.ensemble import RandomForestRegressor\n",
        "from sklearn.tree import DecisionTreeRegressor\n",
        "from sklearn import svm\n",
        "from sklearn.metrics import mean_squared_error, f1_score\n",
        "from sklearn.preprocessing import OneHotEncoder       # To convert discrete strings to vectors!\n",
        "from sklearn.preprocessing import normalize           # For normalizing\n",
        "import seaborn as sns                                 # For plots"
      ]
    },
    {
      "cell_type": "markdown",
      "metadata": {},
      "source": [
        "## Change default chart layout"
      ]
    },
    {
      "cell_type": "code",
      "execution_count": 3,
      "metadata": {
        "colab": {
          "base_uri": "https://localhost:8080/",
          "height": 17
        },
        "id": "lWGusNNx0Kxs",
        "outputId": "e14a91ae-e65d-428a-dc4b-ddeaaddcda00"
      },
      "outputs": [
        {
          "data": {
            "text/html": [
              "        <script type=\"text/javascript\">\n",
              "        window.PlotlyConfig = {MathJaxConfig: 'local'};\n",
              "        if (window.MathJax && window.MathJax.Hub && window.MathJax.Hub.Config) {window.MathJax.Hub.Config({SVG: {font: \"STIX-Web\"}});}\n",
              "        if (typeof require !== 'undefined') {\n",
              "        require.undef(\"plotly\");\n",
              "        requirejs.config({\n",
              "            paths: {\n",
              "                'plotly': ['https://cdn.plot.ly/plotly-2.24.1.min']\n",
              "            }\n",
              "        });\n",
              "        require(['plotly'], function(Plotly) {\n",
              "            window._Plotly = Plotly;\n",
              "        });\n",
              "        }\n",
              "        </script>\n",
              "        "
            ]
          },
          "metadata": {},
          "output_type": "display_data"
        }
      ],
      "source": [
        "# Show charts when running kernel\n",
        "init_notebook_mode(connected=True)\n",
        "\n",
        "# Change default background color for all visualizations\n",
        "layout=go.Layout(paper_bgcolor='rgba(0,0,0,0)', plot_bgcolor='rgba(250,250,250,0.8)')\n",
        "fig = go.Figure(layout=layout)\n",
        "templated_fig = pio.to_templated(fig)\n",
        "pio.templates['my_template'] = templated_fig.layout.template\n",
        "pio.templates.default = 'my_template'"
      ]
    },
    {
      "cell_type": "markdown",
      "metadata": {},
      "source": [
        "## Download datasets"
      ]
    },
    {
      "cell_type": "code",
      "execution_count": 6,
      "metadata": {
        "colab": {
          "base_uri": "https://localhost:8080/"
        },
        "id": "32DbZaSkatlE",
        "outputId": "091003ce-b67a-4b41-fb96-08c80a081bdc"
      },
      "outputs": [
        {
          "name": "stderr",
          "output_type": "stream",
          "text": [
            "Downloading...\n",
            "From (uriginal): https://docs.google.com/uc?id=1KveL-W2L6YxO-1NKn0n6FeGTKLWgvAL4\n",
            "From (redirected): https://docs.google.com/uc?id=1KveL-W2L6YxO-1NKn0n6FeGTKLWgvAL4&confirm=t&uuid=c1c58d40-2190-4d65-9e0b-2d2fb2f90342\n",
            "To: c:\\Users\\jdhru\\OneDrive\\Desktop\\Quanthon\\quanthon-2023\\ES_continuous_adjusted_1min_2011_2018.txt\n",
            "100%|██████████| 158M/158M [00:25<00:00, 6.14MB/s] \n",
            "Downloading...\n",
            "From (uriginal): https://docs.google.com/uc?id=1NyHRoU2YiaCKIhy7afUTuAmC0haWK1Ny\n",
            "From (redirected): https://docs.google.com/uc?id=1NyHRoU2YiaCKIhy7afUTuAmC0haWK1Ny&confirm=t&uuid=c9466b7d-5a8f-4d6b-8ac4-4fdaaa393e3a\n",
            "To: c:\\Users\\jdhru\\OneDrive\\Desktop\\Quanthon\\quanthon-2023\\NQ_continuous_adjusted_1min_2011_2018.txt\n",
            "100%|██████████| 147M/147M [00:21<00:00, 6.87MB/s] \n"
          ]
        },
        {
          "data": {
            "text/plain": [
              "'NQ_continuous_adjusted_1min_2011_2018.txt'"
            ]
          },
          "execution_count": 6,
          "metadata": {},
          "output_type": "execute_result"
        }
      ],
      "source": [
        "# SnP500\n",
        "gdown.download(\"https://docs.google.com/uc?id=1KveL-W2L6YxO-1NKn0n6FeGTKLWgvAL4\", \"ES_continuous_adjusted_1min_2011_2018.txt\", quiet=False)\n",
        "\n",
        "# Nasdaq\n",
        "gdown.download(\"https://docs.google.com/uc?id=1NyHRoU2YiaCKIhy7afUTuAmC0haWK1Ny\", \"NQ_continuous_adjusted_1min_2011_2018.txt\", quiet=False)"
      ]
    },
    {
      "cell_type": "markdown",
      "metadata": {},
      "source": [
        "## Read datasets as CSV"
      ]
    },
    {
      "cell_type": "code",
      "execution_count": 7,
      "metadata": {
        "colab": {
          "base_uri": "https://localhost:8080/",
          "height": 394
        },
        "id": "nokF9p-qYUno",
        "outputId": "82caac01-cffc-4b1b-b39d-8bd1b72f4d50"
      },
      "outputs": [],
      "source": [
        "ES_1min_raw = pd.read_csv('ES_continuous_adjusted_1min_2011_2018.txt', encoding='latin-1')\n",
        "ES_5min_raw = pd.read_csv('ES_continuous_adjusted_5min_2011_2018.txt', encoding='latin-1')\n",
        "ES_30min_raw = pd.read_csv('ES_continuous_adjusted_30min_2011_2018.txt', encoding='latin-1')\n",
        "ES_1hour_raw = pd.read_csv('ES_continuous_adjusted_1hour_2011_2018.txt', encoding='latin-1')\n",
        "\n",
        "NQ_1min_raw = pd.read_csv('NQ_continuous_adjusted_1min_2011_2018.txt', encoding='latin-1')\n",
        "NQ_5min_raw = pd.read_csv('NQ_continuous_adjusted_5min_2011_2018.txt', encoding='latin-1')\n",
        "NQ_30min_raw = pd.read_csv('NQ_continuous_adjusted_30min_2011_2018.txt', encoding='latin-1')\n",
        "NQ_1hour_raw = pd.read_csv('NQ_continuous_adjusted_1hour_2011_2018.txt', encoding='latin-1')"
      ]
    }
  ],
  "metadata": {
    "accelerator": "GPU",
    "colab": {
      "provenance": []
    },
    "kernelspec": {
      "display_name": "Python 3",
      "name": "python3"
    },
    "language_info": {
      "codemirror_mode": {
        "name": "ipython",
        "version": 3
      },
      "file_extension": ".py",
      "mimetype": "text/x-python",
      "name": "python",
      "nbconvert_exporter": "python",
      "pygments_lexer": "ipython3",
      "version": "3.11.4"
    }
  },
  "nbformat": 4,
  "nbformat_minor": 0
}
